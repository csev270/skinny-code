{
 "cells": [
  {
   "cell_type": "markdown",
   "metadata": {},
   "source": [
    "This notebook will contain my first attempt at entering a Kaggle competition. The task is to predict the sale prices of houses in Ames, Iowa. This first section will be an EDA. Although I am not an expert on real estate, I suspect a few features may be of particular importance in predicting house prices-- these include the size of the house, its location, and the condition it's in. I'm curious in seeing if these features actually have much predictive power and what other features will be important."
   ]
  },
  {
   "cell_type": "code",
   "execution_count": 83,
   "metadata": {},
   "outputs": [],
   "source": [
    "import pandas as pd\n",
    "import numpy as np\n",
    "from matplotlib import pyplot as plt"
   ]
  },
  {
   "cell_type": "code",
   "execution_count": 84,
   "metadata": {},
   "outputs": [],
   "source": [
    "prices_df = pd.read_csv(r\"\\\\ion.media\\\\files\\\\user\\\\HomeDir\\\\NYC\\\\cseverance\\\\Desktop\\\\train.csv\")"
   ]
  },
  {
   "cell_type": "markdown",
   "metadata": {},
   "source": [
    "I want to begin my analysis with the features that I suspect will have a lot to do with the final sales prices of the homes. From the data description, the columns that are of particular interest to me are the following: MSSubClass, MSZoning, LotArea, Neighborhood, Condition1, Condition2, Type of Dwelling, Year Built, to name a few. \n",
    "\n",
    "MSZoning deals with the type of area/community the house is located in. From what I know about real estate in NYC, house prices in urban areas cost a lot more per square foot than in suburban or rural areas. If I were to check price per square foot, I suspect that houses will follow a similar pattern in this dataset. A potentially related variable that I will explore is Neighborhood-- it's possible that this will be a more effective location-based feature for describing sales prices."
   ]
  },
  {
   "cell_type": "code",
   "execution_count": 85,
   "metadata": {},
   "outputs": [
    {
     "data": {
      "image/png": "[encoded data removed]",
      "text/plain": [
       "<Figure size 432x288 with 1 Axes>"
      ]
     },
     "metadata": {
      "needs_background": "light"
     },
     "output_type": "display_data"
    }
   ],
   "source": [
    "zoning_df = prices_df.groupby('MSZoning')['SalePrice'].agg(['mean', 'count']).reset_index()\n",
    "zoning_df = zoning_df.sort_values('mean', ascending = False)\n",
    "zoning_df.columns = ['Zone', 'Average_Price', 'Count']\n",
    "\n",
    "x = list(zoning_df['Zone'])\n",
    "y = list(zoning_df['Average_Price'])\n",
    "\n",
    "plt.bar(x, y)\n",
    "plt.show()"
   ]
  },
  {
   "cell_type": "code",
   "execution_count": 86,
   "metadata": {},
   "outputs": [
    {
     "data": {
      "image/png": "[encoded data removed]",
      "text/plain": [
       "<Figure size 432x288 with 1 Axes>"
      ]
     },
     "metadata": {
      "needs_background": "light"
     },
     "output_type": "display_data"
    }
   ],
   "source": [
    "zoning_df = zoning_df.sort_values('Count', ascending = False)\n",
    "x = list(zoning_df['Zone'])\n",
    "y = list(zoning_df['Count'])\n",
    "\n",
    "plt.bar(x, y, color = 'Green')\n",
    "plt.show()"
   ]
  },
  {
   "cell_type": "markdown",
   "metadata": {},
   "source": [
    "Houses in a Floating Village Residential zone have the highest sales price, with houses in Residential Low Density zones not far behind. Average prices for medium and high residential density zones are considerably lower, and commercial sales have the lowest prices of all. However, when we look at the number of sales in each zone, the distribution is very uneven. By far, the most sales occur in RL zones, and very few sales occur in the RH and C zones. Since some zones have very few observations, this may not be the best feature to use.\n",
    "\n",
    "As a potential alternative, I will look at the relationship between average sale price and the neighborhood in which the sale took place."
   ]
  },
  {
   "cell_type": "code",
   "execution_count": 87,
   "metadata": {},
   "outputs": [
    {
     "data": {
      "image/png": "[encoded data removed]",
      "text/plain": [
       "<Figure size 432x288 with 1 Axes>"
      ]
     },
     "metadata": {
      "needs_background": "light"
     },
     "output_type": "display_data"
    },
    {
     "name": "stdout",
     "output_type": "stream",
     "text": [
      "   Neighborhood  Average_Price  Count\n",
      "0       NoRidge  335295.317073     41\n",
      "1       NridgHt  316270.623377     77\n",
      "2       StoneBr  310499.000000     25\n",
      "3        Timber  242247.447368     38\n",
      "4       Veenker  238772.727273     11\n",
      "5       Somerst  225379.837209     86\n",
      "6       ClearCr  212565.428571     28\n",
      "7       Crawfor  210624.725490     51\n",
      "8       CollgCr  197965.773333    150\n",
      "9       Blmngtn  194870.882353     17\n",
      "10      Gilbert  192854.506329     79\n",
      "11       NWAmes  189050.068493     73\n",
      "12      SawyerW  186555.796610     59\n",
      "13      Mitchel  156270.122449     49\n",
      "14        NAmes  145847.080000    225\n",
      "15      NPkVill  142694.444444      9\n",
      "16        SWISU  142591.360000     25\n",
      "17      Blueste  137500.000000      2\n",
      "18       Sawyer  136793.135135     74\n",
      "19      OldTown  128225.300885    113\n",
      "20      Edwards  128219.700000    100\n",
      "21      BrkSide  124834.051724     58\n",
      "22       BrDale  104493.750000     16\n",
      "23       IDOTRR  100123.783784     37\n",
      "24      MeadowV   98576.470588     17\n"
     ]
    }
   ],
   "source": [
    "neighborhood_df = prices_df.groupby('Neighborhood')['SalePrice'].agg(['mean', 'count']).reset_index()\n",
    "neighborhood_df = neighborhood_df.sort_values('mean', ascending = False).reset_index(drop = True)\n",
    "neighborhood_df.columns = ['Neighborhood', 'Average_Price', 'Count']\n",
    "x = [i for i in range(1, len(neighborhood_df) + 1)]\n",
    "y = list(neighborhood_df['Average_Price'])\n",
    "\n",
    "plt.bar(x, y, color = 'Red')\n",
    "plt.show()\n",
    "print(neighborhood_df)"
   ]
  },
  {
   "cell_type": "markdown",
   "metadata": {},
   "source": [
    "Collectively, the three neighborhoods of Northridge, Northridge Heights, and Stone Brook have, by far, the highest average sales price for homes. Outside of that cluster, differences in average sale price are much more gradual, with slight dropoffs between Sawyer West and Mitchell, as well as between Brookside and Briardale. I feel like there could be other variables confounding with Neighborhood that may be better to look at closely-- in particular, home sizes could be much larger in the top 3 neighborhoods, and much smaller in the lower priced neighborhoods, and this could be what's really driving the difference. I will explore how houses in each of these neighborhoods differ from each other.\n",
    "\n",
    "I will see how houses in each of these neighborhoods differ according to YearBuilt, OverallCond, Full Bath, GarageType, etc. To analyze the garage, I am going to create a new variable called Garage-- this will contain a value of 1 if the house has a garage, and a value of 0 if there is no garage."
   ]
  },
  {
   "cell_type": "code",
   "execution_count": 88,
   "metadata": {},
   "outputs": [
    {
     "name": "stdout",
     "output_type": "stream",
     "text": [
      "                  SalePrice    YearBuilt  OverallCond  FullBath       LotArea\n",
      "Neighborhood                                                                 \n",
      "NoRidge       335295.317073  1995.439024     5.219512  2.097561  14218.902439\n",
      "NridgHt       316270.623377  2005.675325     5.000000  2.038961  10887.948052\n",
      "StoneBr       310499.000000  1998.480000     5.000000  1.920000  10671.920000\n",
      "Timber        242247.447368  1992.842105     5.131579  1.894737  23664.236842\n",
      "Veenker       238772.727273  1982.363636     6.272727  1.363636  15606.000000\n",
      "Somerst       225379.837209  2004.988372     5.034884  1.988372   7840.872093\n",
      "ClearCr       212565.428571  1966.571429     5.678571  1.607143  30875.750000\n",
      "Crawfor       210624.725490  1941.549020     6.588235  1.509804  11809.686275\n",
      "CollgCr       197965.773333  1997.886667     5.240000  1.753333   9619.146667\n",
      "Blmngtn       194870.882353  2005.235294     5.000000  1.882353   3398.176471\n",
      "Gilbert       192854.506329  1998.253165     5.126582  1.974684  11379.151899\n",
      "NWAmes        189050.068493  1975.630137     5.945205  1.876712  11833.630137\n",
      "SawyerW       186555.796610  1988.559322     5.152542  1.745763   9923.796610\n",
      "Mitchel       156270.122449  1981.755102     5.367347  1.448980  11624.285714\n",
      "NAmes         145847.080000  1959.995556     5.791111  1.213333  10139.915556\n",
      "NPkVill       142694.444444  1976.444444     5.555556  2.000000   3267.444444\n",
      "SWISU         142591.360000  1925.240000     5.920000  1.640000   8127.560000\n",
      "Blueste       137500.000000  1980.000000     6.000000  1.500000   1625.000000\n",
      "Sawyer        136793.135135  1963.675676     5.810811  1.202703  10459.283784\n",
      "OldTown       128225.300885  1922.884956     6.353982  1.336283   8207.061947\n",
      "Edwards       128219.700000  1955.970000     5.440000  1.360000  10218.650000\n",
      "BrkSide       124834.051724  1931.431034     6.137931  1.103448   7360.413793\n",
      "BrDale        104493.750000  1971.437500     5.437500  1.187500   1801.000000\n",
      "IDOTRR        100123.783784  1927.945946     5.540541  1.054054   8109.162162\n",
      "MeadowV        98576.470588  1972.588235     5.529412  1.117647   2324.000000\n"
     ]
    }
   ],
   "source": [
    "neighborhood_df = prices_df.groupby('Neighborhood')[['SalePrice','YearBuilt', 'OverallCond', 'FullBath', 'LotArea']].mean()\n",
    "neighborhood_df = neighborhood_df.sort_values('SalePrice', ascending = False)\n",
    "print(neighborhood_df)"
   ]
  },
  {
   "cell_type": "markdown",
   "metadata": {},
   "source": [
    "A few things stand out to me about the different neighborhoods. First, homes in the most expensive neighborhoods tend to be built more recently, and those in the least expensive neighborhoods tend to be older. Furthermore, homes in the expensive neighborhoods tend to have more bathrooms-- this could indicate that homes in the expensive neighborhoods are larger than homes in the inexpensive neighborhoods.\n",
    "\n",
    "I need to figure out a way to tell the full square footage of the homes in each of the sales. The issue is that there is no single variable that gives the area of the entire house-- just two separate variables, one for the 1st floor and another for the second floor. I will just add these together to create a column with total area, regardless of the number of floors."
   ]
  },
  {
   "cell_type": "code",
   "execution_count": 89,
   "metadata": {},
   "outputs": [],
   "source": [
    "prices_df['Full_Area'] = prices_df['1stFlrSF'] + prices_df['2ndFlrSF']"
   ]
  },
  {
   "cell_type": "code",
   "execution_count": 90,
   "metadata": {},
   "outputs": [
    {
     "data": {
      "image/png": "[encoded data removed]",
      "text/plain": [
       "<Figure size 432x288 with 1 Axes>"
      ]
     },
     "metadata": {
      "needs_background": "light"
     },
     "output_type": "display_data"
    }
   ],
   "source": [
    "neighborhood_df = prices_df.groupby('Neighborhood')[['SalePrice', 'Full_Area', 'LotArea']].mean()\n",
    "neighborhood_df = neighborhood_df.sort_values('SalePrice', ascending = False).reset_index()\n",
    "average_size = prices_df['Full_Area'].mean()\n",
    "\n",
    "x = list(neighborhood_df['Neighborhood'][0:3])\n",
    "x.append('Average')\n",
    "y = list(neighborhood_df['Full_Area'][0:3])\n",
    "y.append(average_size)\n",
    "\n",
    "plt.bar(x, y, color = 'Gold')\n",
    "plt.show()"
   ]
  },
  {
   "cell_type": "markdown",
   "metadata": {},
   "source": [
    "Looking at the above chart, it's clear that the most expensive neighborhoods have houses that are well above the average home size in the county. Other variables that have to do with the size of a home, such as the number of bathrooms and the number of bedrooms, will probably be correlated with home size. To get a better idea how these variables relate to each other and to the sales price of the homes, I will create a correlation matrix."
   ]
  },
  {
   "cell_type": "code",
   "execution_count": 91,
   "metadata": {},
   "outputs": [
    {
     "data": {
      "text/plain": [
       "<Figure size 720x720 with 0 Axes>"
      ]
     },
     "execution_count": 91,
     "metadata": {},
     "output_type": "execute_result"
    },
    {
     "data": {
      "image/png": "[encoded data removed]",
      "text/plain": [
       "<Figure size 432x288 with 2 Axes>"
      ]
     },
     "metadata": {
      "needs_background": "light"
     },
     "output_type": "display_data"
    },
    {
     "data": {
      "text/plain": [
       "<Figure size 720x720 with 0 Axes>"
      ]
     },
     "metadata": {},
     "output_type": "display_data"
    }
   ],
   "source": [
    "import seaborn as sns\n",
    "correlations = prices_df[['SalePrice', 'Full_Area', 'LotArea', 'YearBuilt', 'OverallCond', 'BedroomAbvGr', 'FullBath', 'Fireplaces']]\n",
    "corr_matrix = correlations.corr()\n",
    "g = sns.heatmap(corr_matrix, annot = True, cmap=\"coolwarm\", vmin = -1, vmax = 1, center = 0)\n",
    "plt.figure(figsize = (10, 10))"
   ]
  },
  {
   "cell_type": "markdown",
   "metadata": {},
   "source": [
    "What stands out immediately is the strong correlation between Full_Area and SalePrice, with r = 0.72. Clearly, larger homes tend to sell for a lot more than smaller homes. It's not immediately clear whether the size of the home is actually causing the homes to sell for much more-- there could be other variables associated with both SalePrice and Full_Area that actually drive the higher sales prices. \n",
    "\n",
    "As expected, FullArea is positively correlated with FullBath and BedroomsAbvGr. Since bedrooms and bathrooms are included in the FullArea measurement, it makes sense that higher values for FullArea are associated with higher values for FullBath and BedroomsAbvGr. \n",
    "\n",
    "Another factor that will likely have an effect on SalePrice is how the sale occurred-- specifically, this will be captured by the features SaleType and SaleCondition. For instance, sales that were foreclosures will likely have much lower SalePrice than sales that weren't. I will find the mean for each value of SaleType, as well as for each value of SaleCondition. This should give me some indication about how these variables are associated with SalePrice."
   ]
  },
  {
   "cell_type": "code",
   "execution_count": 92,
   "metadata": {
    "scrolled": true
   },
   "outputs": [
    {
     "name": "stdout",
     "output_type": "stream",
     "text": [
      "  SaleType      SalePrice\n",
      "0      New  274945.418033\n",
      "1      Con  269600.000000\n",
      "2      CWD  210600.000000\n",
      "3    ConLI  200390.000000\n",
      "4       WD  173401.836622\n",
      "5      COD  143973.255814\n",
      "6    ConLw  143700.000000\n",
      "7    ConLD  138780.888889\n",
      "8      Oth  119850.000000\n"
     ]
    }
   ],
   "source": [
    "sale_type_df = prices_df.groupby('SaleType')['SalePrice'].mean().reset_index()\n",
    "sale_type_df = sale_type_df.sort_values('SalePrice', ascending = False).reset_index(drop = True)\n",
    "print(sale_type_df)"
   ]
  },
  {
   "cell_type": "code",
   "execution_count": 93,
   "metadata": {},
   "outputs": [
    {
     "name": "stdout",
     "output_type": "stream",
     "text": [
      "  SaleCondition      SalePrice\n",
      "0       Partial  272291.752000\n",
      "1        Normal  175202.219533\n",
      "2        Alloca  167377.416667\n",
      "3        Family  149600.000000\n",
      "4       Abnorml  146526.623762\n",
      "5       AdjLand  104125.000000\n"
     ]
    }
   ],
   "source": [
    "sale_condition_df = prices_df.groupby('SaleCondition')['SalePrice'].mean().reset_index()\n",
    "sale_condition_df = sale_condition_df.sort_values('SalePrice', ascending = False).reset_index(drop = True)\n",
    "print(sale_condition_df)"
   ]
  },
  {
   "cell_type": "markdown",
   "metadata": {},
   "source": [
    "For SaleType, sales of new houses and contracts with 15% down payment and regular terms tend to have the highest price. For SaleCondition, SalePrice tends to be highest for Partial sales and, as expected, lowest for abnormal sales (which include foreclosures) and adjacent land sales. It's important to note that Partial sales are associated with new houses, so there could be some confounding there that I may have to take into account later.\n",
    "\n",
    "Before I risk getting bogged down with the details and failing to see the forest through the trees, I will create a preliminary model with a few features that I think will be important. For now, I will select these features off my preliminary EDA and admittedly limited intuition about real estate. The model will serve as a benchmark that I can improve with better feature engineering. \n",
    "\n",
    "The features that I will select are Full_Area, YearBuilt and LotArea. "
   ]
  },
  {
   "cell_type": "code",
   "execution_count": 94,
   "metadata": {},
   "outputs": [
    {
     "name": "stdout",
     "output_type": "stream",
     "text": [
      "         Full_Area    YearBuilt        LotArea\n",
      "count  1460.000000  1460.000000    1460.000000\n",
      "mean   1509.619178  1971.267808   10516.828082\n",
      "std     521.163523    30.202904    9981.264932\n",
      "min     334.000000  1872.000000    1300.000000\n",
      "25%    1123.750000  1954.000000    7553.500000\n",
      "50%    1458.000000  1973.000000    9478.500000\n",
      "75%    1775.250000  2000.000000   11601.500000\n",
      "max    5642.000000  2010.000000  215245.000000\n"
     ]
    }
   ],
   "source": [
    "#Selecting features for preliminary model\n",
    "y = prices_df['SalePrice']\n",
    "features = ['Full_Area', 'YearBuilt', 'LotArea']\n",
    "x = prices_df[features]\n",
    "\n",
    "print(x.describe())"
   ]
  },
  {
   "cell_type": "code",
   "execution_count": 95,
   "metadata": {},
   "outputs": [
    {
     "name": "stdout",
     "output_type": "stream",
     "text": [
      "24875.74391578437\n"
     ]
    }
   ],
   "source": [
    "from sklearn.model_selection import train_test_split\n",
    "from sklearn.ensemble import RandomForestRegressor\n",
    "from sklearn.metrics import mean_absolute_error\n",
    "\n",
    "#Train-Test Split\n",
    "train_x, val_x, train_y, val_y = train_test_split(x, y,random_state = 0)\n",
    "\n",
    "#Creating and fitting the model\n",
    "rf_model = RandomForestRegressor(random_state = 1)\n",
    "rf_model.fit(train_x, train_y)\n",
    "predictions = rf_model.predict(val_x)\n",
    "print(mean_absolute_error(val_y, predictions))"
   ]
  },
  {
   "cell_type": "markdown",
   "metadata": {},
   "source": [
    "Now I will train the model on all of the sales data that I have. Then I will read in "
   ]
  },
  {
   "cell_type": "code",
   "execution_count": 96,
   "metadata": {},
   "outputs": [
    {
     "name": "stderr",
     "output_type": "stream",
     "text": [
      "C:\\Users\\cseverance\\AppData\\Local\\Continuum\\anaconda3\\lib\\site-packages\\sklearn\\ensemble\\forest.py:245: FutureWarning: The default value of n_estimators will change from 10 in version 0.20 to 100 in 0.22.\n",
      "  \"10 in version 0.20 to 100 in 0.22.\", FutureWarning)\n"
     ]
    },
    {
     "data": {
      "text/plain": [
       "RandomForestRegressor(bootstrap=True, criterion='mse', max_depth=None,\n",
       "                      max_features='auto', max_leaf_nodes=None,\n",
       "                      min_impurity_decrease=0.0, min_impurity_split=None,\n",
       "                      min_samples_leaf=1, min_samples_split=2,\n",
       "                      min_weight_fraction_leaf=0.0, n_estimators=10,\n",
       "                      n_jobs=None, oob_score=False, random_state=1, verbose=0,\n",
       "                      warm_start=False)"
      ]
     },
     "execution_count": 96,
     "metadata": {},
     "output_type": "execute_result"
    }
   ],
   "source": [
    "#Fitting the model on all sales data available\n",
    "rf_full_model = RandomForestRegressor(random_state = 1)\n",
    "rf_full_model.fit(x, y)"
   ]
  },
  {
   "cell_type": "code",
   "execution_count": 97,
   "metadata": {
    "scrolled": true
   },
   "outputs": [],
   "source": [
    "#Reading in the test data\n",
    "test_df = pd.read_csv(r\"\\\\ion.media\\\\files\\\\user\\\\HomeDir\\\\NYC\\\\cseverance\\\\Desktop\\\\test.csv\")\n",
    "test_df['Full_Area'] = test_df['1stFlrSF'] + test_df['2ndFlrSF']\n",
    "\n",
    "#Creating test_x, with just the features that I want for the preliminary model\n",
    "test_x = test_df[features]\n",
    "\n",
    "#Using model to make predictions based on the test data\n",
    "test_predictions = rf_full_model.predict(test_x)\n",
    "\n",
    "output = pd.DataFrame({'Id': test_df.Id,\n",
    "                       'SalePrice': test_predictions})"
   ]
  },
  {
   "cell_type": "code",
   "execution_count": null,
   "metadata": {},
   "outputs": [],
   "source": [
    "#Creating a file for submission\n",
    "output.to_csv(r\"\\\\ion.media\\\\files\\\\user\\\\HomeDir\\\\NYC\\\\cseverance\\\\Desktop\\\\house_prices_first_submission.csv\")"
   ]
  },
  {
   "cell_type": "markdown",
   "metadata": {},
   "source": [
    "This first submission had a score of 0.21320, and was ranked 3588 out of 4631 at the time (22.52 percentile). To improve this score, I will add more features to the model and use feature engineering.\n",
    "\n",
    "To start, I want to include Building Type since, based on my understanding of the data, the type of building should contain useful information about the price of the sale. I will use one hot encoding to make the Building Type column usable."
   ]
  },
  {
   "cell_type": "code",
   "execution_count": 102,
   "metadata": {},
   "outputs": [],
   "source": [
    "#Selecting features for 2nd iteration model\n",
    "y = prices_df['SalePrice']\n",
    "features = ['Full_Area', 'YearBuilt', 'LotArea', 'BldgType', 'MSZoning']\n",
    "x = prices_df[features]\n",
    "\n",
    "#Train-Test Split\n",
    "train_x, val_x, train_y, val_y = train_test_split(x, y,random_state = 0)"
   ]
  },
  {
   "cell_type": "code",
   "execution_count": 103,
   "metadata": {},
   "outputs": [],
   "source": [
    "from sklearn.preprocessing import OneHotEncoder\n",
    "\n",
    "#Specifying the columns on which I want to use one hot encoding\n",
    "columns_to_encode = ['BldgType', 'MSZoning']\n",
    "\n",
    "#Creating encoded columns\n",
    "encoder = OneHotEncoder(handle_unknown = 'ignore', sparse = False)\n",
    "encoded_cols_train = pd.DataFrame(encoder.fit_transform(train_x[columns_to_encode]))\n",
    "encoded_cols_train.index = train_x.index\n",
    "encoded_cols_val = pd.DataFrame(encoder.fit_transform(val_x[columns_to_encode]))\n",
    "encoded_cols_val.index = val_x.index\n",
    "\n",
    "#Getting numerical columns\n",
    "num_cols_train_x = train_x[['Full_Area', 'YearBuilt', 'LotArea']]\n",
    "num_cols_val_x = val_x[['Full_Area', 'YearBuilt', 'LotArea']]\n",
    "\n",
    "#Combining the numerical cols and encoded cols to get the final train and valid sets\n",
    "encoded_train_x = pd.concat([encoded_cols_train, num_cols_train_x], axis = 1)\n",
    "encoded_val_x = pd.concat([encoded_cols_val, num_cols_val_x], axis = 1)"
   ]
  },
  {
   "cell_type": "code",
   "execution_count": 104,
   "metadata": {},
   "outputs": [
    {
     "name": "stdout",
     "output_type": "stream",
     "text": [
      "                 0            1            2            3            4  \\\n",
      "count  1095.000000  1095.000000  1095.000000  1095.000000  1095.000000   \n",
      "mean      0.840183     0.021918     0.033790     0.029224     0.074886   \n",
      "std       0.366604     0.146482     0.180771     0.168510     0.263327   \n",
      "min       0.000000     0.000000     0.000000     0.000000     0.000000   \n",
      "25%       1.000000     0.000000     0.000000     0.000000     0.000000   \n",
      "50%       1.000000     0.000000     0.000000     0.000000     0.000000   \n",
      "75%       1.000000     0.000000     0.000000     0.000000     0.000000   \n",
      "max       1.000000     1.000000     1.000000     1.000000     1.000000   \n",
      "\n",
      "                 5            6            7            8            9  \\\n",
      "count  1095.000000  1095.000000  1095.000000  1095.000000  1095.000000   \n",
      "mean      0.008219     0.040183     0.012785     0.797260     0.141553   \n",
      "std       0.090328     0.196477     0.112399     0.402224     0.348750   \n",
      "min       0.000000     0.000000     0.000000     0.000000     0.000000   \n",
      "25%       0.000000     0.000000     0.000000     1.000000     0.000000   \n",
      "50%       0.000000     0.000000     0.000000     1.000000     0.000000   \n",
      "75%       0.000000     0.000000     0.000000     1.000000     0.000000   \n",
      "max       1.000000     1.000000     1.000000     1.000000     1.000000   \n",
      "\n",
      "         Full_Area    YearBuilt        LotArea  \n",
      "count  1095.000000  1095.000000    1095.000000  \n",
      "mean   1514.659361  1971.006393   10554.273973  \n",
      "std     513.164005    30.205435   10059.063819  \n",
      "min     334.000000  1872.000000    1300.000000  \n",
      "25%    1126.000000  1954.000000    7734.000000  \n",
      "50%    1474.000000  1972.000000    9531.000000  \n",
      "75%    1787.000000  2000.000000   11592.000000  \n",
      "max    4676.000000  2010.000000  215245.000000  \n"
     ]
    }
   ],
   "source": [
    "print(encoded_train_x.describe())"
   ]
  },
  {
   "cell_type": "code",
   "execution_count": 105,
   "metadata": {},
   "outputs": [
    {
     "name": "stdout",
     "output_type": "stream",
     "text": [
      "24059.121922374427\n"
     ]
    }
   ],
   "source": [
    "#Creating and fitting the model\n",
    "rf_second_model = RandomForestRegressor(n_estimators = 100, random_state = 1)\n",
    "rf_second_model.fit(encoded_train_x, train_y)\n",
    "predictions = rf_second_model.predict(encoded_val_x)\n",
    "print(mean_absolute_error(val_y, predictions))"
   ]
  },
  {
   "cell_type": "markdown",
   "metadata": {},
   "source": [
    "A few things to point out about this second interation model. First, increasing the n_predictors parameter for the random forest model caused MAE to go down quite a bit. I'm not sure what the best argument for n_predictors is, but 100 is certainly better than 10. In the next notebook where I build upon this model with further EDA and feature engineering, I will also explore what the best value for n_estimators is in this case (and also how to select n_estimators). \n",
    "\n",
    "The other thing I want to point out is that adding Building Type also brought down MAE quite a bit. "
   ]
  }
 ],
 "metadata": {
  "kernelspec": {
   "display_name": "Python 3",
   "language": "python",
   "name": "python3"
  },
  "language_info": {
   "codemirror_mode": {
    "name": "ipython",
    "version": 3
   },
   "file_extension": ".py",
   "mimetype": "text/x-python",
   "name": "python",
   "nbconvert_exporter": "python",
   "pygments_lexer": "ipython3",
   "version": "3.7.4"
  }
 },
 "nbformat": 4,
 "nbformat_minor": 2
}
